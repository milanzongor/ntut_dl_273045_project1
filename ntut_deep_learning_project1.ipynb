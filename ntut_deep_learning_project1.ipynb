{
  "nbformat": 4,
  "nbformat_minor": 0,
  "metadata": {
    "colab": {
      "name": "ntut_deep_learning_project1.ipynb",
      "provenance": [],
      "authorship_tag": "ABX9TyOSXoTWgMWwDY0/rbtt1iE2",
      "include_colab_link": true
    },
    "kernelspec": {
      "name": "python3",
      "display_name": "Python 3"
    }
  },
  "cells": [
    {
      "cell_type": "markdown",
      "metadata": {
        "id": "view-in-github",
        "colab_type": "text"
      },
      "source": [
        "<a href=\"https://colab.research.google.com/github/milanzongor/ntut_dl_273045_project1/blob/master/ntut_deep_learning_project1.ipynb\" target=\"_parent\"><img src=\"https://colab.research.google.com/assets/colab-badge.svg\" alt=\"Open In Colab\"/></a>"
      ]
    },
    {
      "cell_type": "code",
      "metadata": {
        "id": "5Mk_SzMvwFZ1",
        "colab_type": "code",
        "colab": {
          "base_uri": "https://localhost:8080/",
          "height": 34
        },
        "outputId": "ba2c25cd-d76f-49e2-8fee-2dbbee69b1be"
      },
      "source": [
        "print(\"jojo\")"
      ],
      "execution_count": 1,
      "outputs": [
        {
          "output_type": "stream",
          "text": [
            "jojo\n"
          ],
          "name": "stdout"
        }
      ]
    }
  ]
}